{
 "cells": [
  {
   "cell_type": "code",
   "execution_count": 1,
   "metadata": {},
   "outputs": [],
   "source": [
    "import random\n",
    "import pandas as pd\n",
    "import numpy as np\n",
    "from scipy.sparse import csr_matrix\n",
    "import seaborn as sns\n",
    "import matplotlib.pyplot as plt\n",
    "plt.style.use('ggplot')\n",
    "pd.options.mode.chained_assignment = None\n",
    "\n",
    "from sklearn.metrics import mean_squared_error\n",
    "from sklearn.preprocessing import LabelEncoder\n",
    "\n",
    "from pytorchtools import EarlyStopping\n",
    "\n",
    "import torch\n",
    "from torch.utils.data import Dataset, DataLoader\n",
    "import torch.nn as nn\n",
    "import torch.optim as optim\n",
    "import torch.nn.functional as F\n",
    "from torch.utils.data.sampler import SubsetRandomSampler\n",
    "\n",
    "\n",
    "from surprise import Reader, Dataset\n",
    "from surprise import SVD, evaluate\n",
    "from surprise import NMF, KNNBasic\n",
    "from surprise.model_selection.validation import cross_validate"
   ]
  },
  {
   "cell_type": "markdown",
   "metadata": {},
   "source": [
    "# Loading the dataset"
   ]
  },
  {
   "cell_type": "code",
   "execution_count": 2,
   "metadata": {},
   "outputs": [],
   "source": [
    "anime= pd.read_csv('Data/anime.csv')\n",
    "ratings = pd.read_csv('Data/rating.csv')"
   ]
  },
  {
   "cell_type": "code",
   "execution_count": 3,
   "metadata": {},
   "outputs": [
    {
     "data": {
      "text/html": [
       "<div>\n",
       "<style scoped>\n",
       "    .dataframe tbody tr th:only-of-type {\n",
       "        vertical-align: middle;\n",
       "    }\n",
       "\n",
       "    .dataframe tbody tr th {\n",
       "        vertical-align: top;\n",
       "    }\n",
       "\n",
       "    .dataframe thead th {\n",
       "        text-align: right;\n",
       "    }\n",
       "</style>\n",
       "<table border=\"1\" class=\"dataframe\">\n",
       "  <thead>\n",
       "    <tr style=\"text-align: right;\">\n",
       "      <th></th>\n",
       "      <th>anime_id</th>\n",
       "      <th>name</th>\n",
       "      <th>genre</th>\n",
       "      <th>type</th>\n",
       "      <th>episodes</th>\n",
       "      <th>rating</th>\n",
       "      <th>members</th>\n",
       "    </tr>\n",
       "  </thead>\n",
       "  <tbody>\n",
       "    <tr>\n",
       "      <td>0</td>\n",
       "      <td>32281</td>\n",
       "      <td>Kimi no Na wa.</td>\n",
       "      <td>Drama, Romance, School, Supernatural</td>\n",
       "      <td>Movie</td>\n",
       "      <td>1</td>\n",
       "      <td>9.37</td>\n",
       "      <td>200630</td>\n",
       "    </tr>\n",
       "    <tr>\n",
       "      <td>1</td>\n",
       "      <td>5114</td>\n",
       "      <td>Fullmetal Alchemist: Brotherhood</td>\n",
       "      <td>Action, Adventure, Drama, Fantasy, Magic, Mili...</td>\n",
       "      <td>TV</td>\n",
       "      <td>64</td>\n",
       "      <td>9.26</td>\n",
       "      <td>793665</td>\n",
       "    </tr>\n",
       "    <tr>\n",
       "      <td>2</td>\n",
       "      <td>28977</td>\n",
       "      <td>Gintama°</td>\n",
       "      <td>Action, Comedy, Historical, Parody, Samurai, S...</td>\n",
       "      <td>TV</td>\n",
       "      <td>51</td>\n",
       "      <td>9.25</td>\n",
       "      <td>114262</td>\n",
       "    </tr>\n",
       "    <tr>\n",
       "      <td>3</td>\n",
       "      <td>9253</td>\n",
       "      <td>Steins;Gate</td>\n",
       "      <td>Sci-Fi, Thriller</td>\n",
       "      <td>TV</td>\n",
       "      <td>24</td>\n",
       "      <td>9.17</td>\n",
       "      <td>673572</td>\n",
       "    </tr>\n",
       "    <tr>\n",
       "      <td>4</td>\n",
       "      <td>9969</td>\n",
       "      <td>Gintama&amp;#039;</td>\n",
       "      <td>Action, Comedy, Historical, Parody, Samurai, S...</td>\n",
       "      <td>TV</td>\n",
       "      <td>51</td>\n",
       "      <td>9.16</td>\n",
       "      <td>151266</td>\n",
       "    </tr>\n",
       "  </tbody>\n",
       "</table>\n",
       "</div>"
      ],
      "text/plain": [
       "   anime_id                              name  \\\n",
       "0     32281                    Kimi no Na wa.   \n",
       "1      5114  Fullmetal Alchemist: Brotherhood   \n",
       "2     28977                          Gintama°   \n",
       "3      9253                       Steins;Gate   \n",
       "4      9969                     Gintama&#039;   \n",
       "\n",
       "                                               genre   type episodes  rating  \\\n",
       "0               Drama, Romance, School, Supernatural  Movie        1    9.37   \n",
       "1  Action, Adventure, Drama, Fantasy, Magic, Mili...     TV       64    9.26   \n",
       "2  Action, Comedy, Historical, Parody, Samurai, S...     TV       51    9.25   \n",
       "3                                   Sci-Fi, Thriller     TV       24    9.17   \n",
       "4  Action, Comedy, Historical, Parody, Samurai, S...     TV       51    9.16   \n",
       "\n",
       "   members  \n",
       "0   200630  \n",
       "1   793665  \n",
       "2   114262  \n",
       "3   673572  \n",
       "4   151266  "
      ]
     },
     "execution_count": 3,
     "metadata": {},
     "output_type": "execute_result"
    }
   ],
   "source": [
    "anime.head()"
   ]
  },
  {
   "cell_type": "code",
   "execution_count": 4,
   "metadata": {},
   "outputs": [
    {
     "data": {
      "text/html": [
       "<div>\n",
       "<style scoped>\n",
       "    .dataframe tbody tr th:only-of-type {\n",
       "        vertical-align: middle;\n",
       "    }\n",
       "\n",
       "    .dataframe tbody tr th {\n",
       "        vertical-align: top;\n",
       "    }\n",
       "\n",
       "    .dataframe thead th {\n",
       "        text-align: right;\n",
       "    }\n",
       "</style>\n",
       "<table border=\"1\" class=\"dataframe\">\n",
       "  <thead>\n",
       "    <tr style=\"text-align: right;\">\n",
       "      <th></th>\n",
       "      <th>user_id</th>\n",
       "      <th>anime_id</th>\n",
       "      <th>rating</th>\n",
       "    </tr>\n",
       "  </thead>\n",
       "  <tbody>\n",
       "    <tr>\n",
       "      <td>0</td>\n",
       "      <td>1</td>\n",
       "      <td>20</td>\n",
       "      <td>-1</td>\n",
       "    </tr>\n",
       "    <tr>\n",
       "      <td>1</td>\n",
       "      <td>1</td>\n",
       "      <td>24</td>\n",
       "      <td>-1</td>\n",
       "    </tr>\n",
       "    <tr>\n",
       "      <td>2</td>\n",
       "      <td>1</td>\n",
       "      <td>79</td>\n",
       "      <td>-1</td>\n",
       "    </tr>\n",
       "    <tr>\n",
       "      <td>3</td>\n",
       "      <td>1</td>\n",
       "      <td>226</td>\n",
       "      <td>-1</td>\n",
       "    </tr>\n",
       "    <tr>\n",
       "      <td>4</td>\n",
       "      <td>1</td>\n",
       "      <td>241</td>\n",
       "      <td>-1</td>\n",
       "    </tr>\n",
       "  </tbody>\n",
       "</table>\n",
       "</div>"
      ],
      "text/plain": [
       "   user_id  anime_id  rating\n",
       "0        1        20      -1\n",
       "1        1        24      -1\n",
       "2        1        79      -1\n",
       "3        1       226      -1\n",
       "4        1       241      -1"
      ]
     },
     "execution_count": 4,
     "metadata": {},
     "output_type": "execute_result"
    }
   ],
   "source": [
    "ratings.head()"
   ]
  },
  {
   "cell_type": "markdown",
   "metadata": {},
   "source": [
    "# Simple Analytics"
   ]
  },
  {
   "cell_type": "code",
   "execution_count": 5,
   "metadata": {},
   "outputs": [
    {
     "name": "stdout",
     "output_type": "stream",
     "text": [
      "Anime df shape:  (12294, 7) \n",
      "\n",
      "Ratings df shape :  (7813737, 3) \n",
      "\n",
      "-------------------------------------------\n",
      "Anime df shape:  Index(['anime_id', 'name', 'genre', 'type', 'episodes', 'rating', 'members'], dtype='object') \n",
      "\n",
      "Ratings df shape :  Index(['user_id', 'anime_id', 'rating'], dtype='object') \n",
      "\n",
      "-------------------------------------------\n",
      "Number of unique members :  6706\n",
      "Number of unique anime :  598 \n",
      "\n",
      "-------------------------------------------\n",
      "Ratings Range :  [-1 10  8  6  9  7  3  5  4  1  2]\n",
      "Users df NaN or not : \n",
      " \n",
      " anime_id      0\n",
      "name          0\n",
      "genre        62\n",
      "type         25\n",
      "episodes      0\n",
      "rating      230\n",
      "members       0\n",
      "dtype: int64\n",
      "------------------------------------------------\n",
      "\n",
      " Ratings df NaN or not : \n",
      "  \n",
      " user_id     0\n",
      "anime_id    0\n",
      "rating      0\n",
      "dtype: int64\n",
      "------------------------------------------------\n",
      "Users df NaN or not : \n",
      " \n",
      " anime_id    0\n",
      "name        0\n",
      "genre       0\n",
      "type        0\n",
      "episodes    0\n",
      "rating      0\n",
      "members     0\n",
      "dtype: int64\n",
      "------------------------------------------------\n",
      "Anime df shape:  (12017, 7) \n",
      "\n"
     ]
    }
   ],
   "source": [
    "# Shapes\n",
    "print (\"Anime df shape: \", anime.shape, '\\n')\n",
    "print (\"Ratings df shape : \", ratings.shape, '\\n')\n",
    "print (\"-------------------------------------------\")\n",
    "\n",
    "#Columns\n",
    "print (\"Anime df shape: \", anime.columns, '\\n')\n",
    "print (\"Ratings df shape : \", ratings.columns, '\\n')\n",
    "print (\"-------------------------------------------\")\n",
    "\n",
    "unique_members = anime.members.nunique()\n",
    "print ('Number of unique members : ', unique_members)\n",
    "unique_anime = anime.rating.nunique()\n",
    "print ('Number of unique anime : ', unique_anime, '\\n')\n",
    "\n",
    "#Ratings Range\n",
    "print (\"-------------------------------------------\")\n",
    "\n",
    "ratings_range = ratings.rating.unique()\n",
    "print ('Ratings Range : ', ratings_range)\n",
    "\n",
    "# Handle Missing Values\n",
    "print (\"Users df NaN or not : \\n \\n\", anime.isna().sum())\n",
    "print (\"------------------------------------------------\")\n",
    "print (\"\\n Ratings df NaN or not : \\n  \\n\", ratings.isna().sum())\n",
    "print (\"------------------------------------------------\")\n",
    "\n",
    "anime.dropna(inplace=True)\n",
    "\n",
    "print (\"Users df NaN or not : \\n \\n\", anime.isna().sum())\n",
    "print (\"------------------------------------------------\")\n",
    "print (\"Anime df shape: \", anime.shape, '\\n')"
   ]
  },
  {
   "cell_type": "markdown",
   "metadata": {},
   "source": [
    "# More Analytics \n",
    "\n",
    "## Plot the counts of each rating"
   ]
  },
  {
   "cell_type": "code",
   "execution_count": 6,
   "metadata": {},
   "outputs": [
    {
     "data": {
      "image/png": "[encoded data removed]",
      "text/plain": [
       "<Figure size 1152x720 with 1 Axes>"
      ]
     },
     "metadata": {
      "needs_background": "light"
     },
     "output_type": "display_data"
    }
   ],
   "source": [
    "ratings_counts = pd.DataFrame(ratings.groupby('rating').size(), columns=['Count'])\n",
    "\n",
    "plt.figure (figsize=(16,10))\n",
    "ax = sns.barplot(x = ratings_counts.index.values, y = ratings_counts.Count.values)\n",
    "ax.set(xlabel='Ratings', ylabel='Count', title = 'Counts of each Rating')\n",
    "plt.show()"
   ]
  },
  {
   "cell_type": "markdown",
   "metadata": {},
   "source": [
    "### Remove \"-1\" values"
   ]
  },
  {
   "cell_type": "code",
   "execution_count": 2,
   "metadata": {},
   "outputs": [],
   "source": [
    "ratings = ratings[ratings.rating != -1]"
   ]
  },
  {
   "cell_type": "markdown",
   "metadata": {},
   "source": [
    "# Plot the counts of each rating again"
   ]
  },
  {
   "cell_type": "code",
   "execution_count": 8,
   "metadata": {},
   "outputs": [
    {
     "data": {
      "image/png": "[encoded data removed]",
      "text/plain": [
       "<Figure size 1152x720 with 1 Axes>"
      ]
     },
     "metadata": {
      "needs_background": "light"
     },
     "output_type": "display_data"
    }
   ],
   "source": [
    "ratings_counts = pd.DataFrame(ratings.groupby('rating').size(), columns=['Count'])\n",
    "\n",
    "plt.figure (figsize=(16,10))\n",
    "ax = sns.barplot(x = ratings_counts.index.values, y = ratings_counts.Count.values)\n",
    "ax.set(xlabel='Ratings', ylabel='Count', title = 'Counts of each Rating')\n",
    "plt.show()"
   ]
  },
  {
   "cell_type": "markdown",
   "metadata": {},
   "source": [
    "## Frequency of each anime got rated"
   ]
  },
  {
   "cell_type": "code",
   "execution_count": 9,
   "metadata": {},
   "outputs": [
    {
     "data": {
      "image/png": "[encoded data removed]",
      "text/plain": [
       "<Figure size 1152x720 with 1 Axes>"
      ]
     },
     "metadata": {
      "needs_background": "light"
     },
     "output_type": "display_data"
    }
   ],
   "source": [
    "ratings_frequency = pd.DataFrame(ratings.groupby('anime_id').size(), columns=['Count'])\n",
    "ratings_frequency_for_plot = ratings_frequency.sort_values(by='Count').reset_index(drop=True)\n",
    "\n",
    "\n",
    "plt.figure (figsize=(16,10))\n",
    "ax = sns.lineplot(x = ratings_frequency_for_plot.index, y = ratings_frequency_for_plot.Count)\n",
    "ax.set(xlabel='Number of Anime', ylabel='Count', title = 'Frequency of each anime got rated')\n",
    "plt.show()"
   ]
  },
  {
   "cell_type": "markdown",
   "metadata": {},
   "source": [
    "## Set an anime rating threshold in order to avoid Long Tail Property"
   ]
  },
  {
   "cell_type": "code",
   "execution_count": 10,
   "metadata": {},
   "outputs": [
    {
     "name": "stdout",
     "output_type": "stream",
     "text": [
      "Ratings shape before the removal : (6337241, 3)\n",
      "Number of Anime before the removal : 9927\n",
      "Number of Users before the removal : 69600\n",
      "Ratings shape after the removal : (5739865, 3)\n",
      "Number of Anime after the removal : 2227\n",
      "Number of Users before the removal : 69445\n"
     ]
    }
   ],
   "source": [
    "print ('Ratings shape before the removal : {}'.format(ratings.shape))\n",
    "print ('Number of Anime before the removal : {}'.format(ratings.anime_id.nunique()))\n",
    "print ('Number of Users before the removal : {}'.format(ratings.user_id.nunique()))\n",
    "\n",
    "# Remove all the books with less than 100 ratings.\n",
    "indexes = ratings_frequency [ratings_frequency.Count >= 500].index\n",
    "ratings = ratings [ ratings.anime_id.isin( indexes ) ]\n",
    "\n",
    "print ('Ratings shape after the removal : {}'.format(ratings.shape))\n",
    "print ('Number of Anime after the removal : {}'.format(ratings.anime_id.nunique()))\n",
    "print ('Number of Users before the removal : {}'.format(ratings.user_id.nunique()))"
   ]
  },
  {
   "cell_type": "markdown",
   "metadata": {},
   "source": [
    "## Plot Frequency of each anime got rated Again"
   ]
  },
  {
   "cell_type": "code",
   "execution_count": 11,
   "metadata": {},
   "outputs": [
    {
     "data": {
      "image/png": "[encoded data removed]",
      "text/plain": [
       "<Figure size 1152x720 with 1 Axes>"
      ]
     },
     "metadata": {
      "needs_background": "light"
     },
     "output_type": "display_data"
    }
   ],
   "source": [
    "ratings_frequency = pd.DataFrame(ratings.groupby('anime_id').size(), columns=['Count'])\n",
    "ratings_frequency_for_plot = ratings_frequency.sort_values(by='Count').reset_index(drop=True)\n",
    "\n",
    "\n",
    "plt.figure (figsize=(16,10))\n",
    "ax = sns.lineplot(x = ratings_frequency_for_plot.index, y = ratings_frequency_for_plot.Count)\n",
    "ax.set(xlabel='Number of Anime', ylabel='Count', title = 'Frequency of each anime got rated')\n",
    "plt.show()"
   ]
  },
  {
   "cell_type": "markdown",
   "metadata": {},
   "source": [
    "## Plot the frequency each user is rating, in order to find the active ones "
   ]
  },
  {
   "cell_type": "code",
   "execution_count": 12,
   "metadata": {},
   "outputs": [
    {
     "data": {
      "image/png": "[encoded data removed]",
      "text/plain": [
       "<Figure size 1152x720 with 1 Axes>"
      ]
     },
     "metadata": {
      "needs_background": "light"
     },
     "output_type": "display_data"
    }
   ],
   "source": [
    "users_frequency = pd.DataFrame(ratings.groupby('user_id').size(), columns=['Count'])\n",
    "users_frequency_for_plot = users_frequency.sort_values(by='Count').reset_index(drop=True)\n",
    "\n",
    "\n",
    "plt.figure (figsize=(16,10))\n",
    "ax = sns.lineplot(x = users_frequency_for_plot.index, y = users_frequency_for_plot.Count, color='blue')\n",
    "ax.set(xlabel='Number of Users', ylabel='Count', title = 'Frequency each user is rating')\n",
    "plt.show()"
   ]
  },
  {
   "cell_type": "code",
   "execution_count": 13,
   "metadata": {},
   "outputs": [
    {
     "name": "stdout",
     "output_type": "stream",
     "text": [
      "Ratings shape before the removal : (5739865, 3)\n",
      "Number of Anime before the removal : 2227\n",
      "Number of Users before the removal : 69445\n",
      "Ratings shape after the removal : (1207571, 3)\n",
      "Number of Anime after the removal : 2227\n",
      "Number of Users before the removal : 2401\n"
     ]
    }
   ],
   "source": [
    "print ('Ratings shape before the removal : {}'.format(ratings.shape))\n",
    "print ('Number of Anime before the removal : {}'.format(ratings.anime_id.nunique()))\n",
    "print ('Number of Users before the removal : {}'.format(ratings.user_id.nunique()))\n",
    "\n",
    "\n",
    "\n",
    "# Remove all the books with less than 100 ratings.\n",
    "indexes = users_frequency [users_frequency.Count >= 350].index\n",
    "ratings = ratings [ ratings.user_id.isin( indexes ) ]\n",
    "\n",
    "print ('Ratings shape after the removal : {}'.format(ratings.shape))\n",
    "print ('Number of Anime after the removal : {}'.format(ratings.anime_id.nunique()))\n",
    "print ('Number of Users before the removal : {}'.format(ratings.user_id.nunique()))"
   ]
  },
  {
   "cell_type": "markdown",
   "metadata": {},
   "source": [
    "## Plot the frequency each user is rating Again"
   ]
  },
  {
   "cell_type": "code",
   "execution_count": 14,
   "metadata": {},
   "outputs": [
    {
     "data": {
      "image/png": "[encoded data removed]",
      "text/plain": [
       "<Figure size 1152x720 with 1 Axes>"
      ]
     },
     "metadata": {
      "needs_background": "light"
     },
     "output_type": "display_data"
    }
   ],
   "source": [
    "users_frequency = pd.DataFrame(ratings.groupby('user_id').size(), columns=['Count'])\n",
    "users_frequency_for_plot = users_frequency.sort_values(by='Count').reset_index(drop=True)\n",
    "\n",
    "\n",
    "plt.figure (figsize=(16,10))\n",
    "ax = sns.lineplot(x = users_frequency_for_plot.index, y = users_frequency_for_plot.Count, color='blue')\n",
    "ax.set(xlabel='Number of Users', ylabel='Count', title = 'Frequency each user is rating')\n",
    "plt.show()"
   ]
  },
  {
   "cell_type": "code",
   "execution_count": 15,
   "metadata": {},
   "outputs": [
    {
     "name": "stdout",
     "output_type": "stream",
     "text": [
      "True    1207571\n",
      "Name: anime_id, dtype: int64 \n",
      "\n"
     ]
    }
   ],
   "source": [
    "#Check if ratings df's UserId and anime id are contained on the other dfs\n",
    "print (ratings.anime_id.isin(anime.anime_id).value_counts(), '\\n')"
   ]
  },
  {
   "cell_type": "markdown",
   "metadata": {},
   "source": [
    "# Baseline with Surprise "
   ]
  },
  {
   "cell_type": "code",
   "execution_count": 16,
   "metadata": {},
   "outputs": [
    {
     "name": "stdout",
     "output_type": "stream",
     "text": [
      "MSE of SVD :  1.1211930520001663\n",
      "MSE of NMF :  4.317033925832879\n"
     ]
    }
   ],
   "source": [
    "reader = Reader(rating_scale=(1, 10))\n",
    "\n",
    "# The columns must correspond to user id, item id and ratings (in that order).\n",
    "data = Dataset.load_from_df(ratings[['user_id', 'anime_id', 'rating']], reader)\n",
    "\n",
    "# svd\n",
    "algo = SVD()\n",
    "print (\"MSE of SVD : \", np.mean ( pow(cross_validate(algo, data, measures=['RMSE']) ['test_rmse'], 2) ) )\n",
    "\n",
    "# nmf\n",
    "algo = NMF()\n",
    "print (\"MSE of NMF : \", np.mean ( pow(cross_validate(algo, data, measures=['RMSE']) ['test_rmse'], 2) ) )"
   ]
  },
  {
   "cell_type": "markdown",
   "metadata": {},
   "source": [
    "# Neural Network Approach"
   ]
  },
  {
   "cell_type": "markdown",
   "metadata": {},
   "source": [
    "## Define Dataset Class"
   ]
  },
  {
   "cell_type": "code",
   "execution_count": 17,
   "metadata": {},
   "outputs": [],
   "source": [
    "class AnimeDataset (Dataset):\n",
    "    \n",
    "    def __init__ (self, ratings):\n",
    "    \n",
    "        self.ratings = ratings\n",
    "        \n",
    "    def __len__ (self):\n",
    "        return len(self.ratings)\n",
    "    \n",
    "    def __getitem__ (self, index):\n",
    "        \n",
    "        rating = self.ratings['rating'].iloc[index]\n",
    "        user = self.ratings['UsersInt'].iloc[index]\n",
    "        anime = self.ratings['AnimeInt'].iloc[index]\n",
    "        \n",
    "        return {'rating' : rating, 'user' : user, 'anime' : anime}"
   ]
  },
  {
   "cell_type": "markdown",
   "metadata": {},
   "source": [
    "## Define Neural Network Architecture"
   ]
  },
  {
   "cell_type": "code",
   "execution_count": 18,
   "metadata": {},
   "outputs": [],
   "source": [
    "def get_emb(num_item,num_emb):\n",
    "    emb = nn.Embedding(num_item, num_emb)\n",
    "    emb.weight.data.uniform_(-0.01,0.01)\n",
    "    #emb.weight.data.normal_(0,0.003)\n",
    "\n",
    "    return emb\n",
    "\n",
    "class EmbeddingNet (nn.Module):\n",
    "    \n",
    "    def __init__ (self, num_users, num_anime, num_emb, hidden_dim, drop1=0.05, drop2=0.5):\n",
    "        \n",
    "        super(EmbeddingNet, self).__init__()\n",
    "        \n",
    "        #We create one embedding for both users and books. It's smthing like the matrix factorization\n",
    "        #They are basicaly the weights of the network\n",
    "        self.user_emb = get_emb(num_users, num_emb)\n",
    "        self.anime_emb = get_emb(num_anime, num_emb)\n",
    "\n",
    "        #Its * 2 cause we concacenated the two embeddings\n",
    "        self.dense1 = nn.Linear(num_emb*2, hidden_dim)  # bias is True by default\n",
    "        self.dense2 = nn.Linear(hidden_dim, 1)\n",
    "        self.drop1 = nn.Dropout(p = drop1)\n",
    "        self.drop2 = nn.Dropout(p = drop2)\n",
    "        \n",
    "    def forward (self, batch_users, batch_anime ):\n",
    "        '''\n",
    "        forward pass i.e. :\n",
    "        dot product of vector from books embedding matrixx and vector from user embeddings matrix\n",
    "        \n",
    "        # torch.cat : concatenates both embedding matrix to make more columns, same rows i.e. n_factors*2, n : rows\n",
    "        # u(users) is doing lookup for indexed mentioned in users\n",
    "        # users has indexes to lookup in embedding matrix. \n",
    "        '''\n",
    "        user_emb_out = self.user_emb(batch_users)\n",
    "        anime_emb_out = self.anime_emb(batch_anime)\n",
    "        connected_one_next_to_the_other = torch.cat([user_emb_out,anime_emb_out], 1)\n",
    "        \n",
    "        x = self.drop1(connected_one_next_to_the_other) # drop initialized weights\n",
    "        x = self.drop2(F.relu(self.dense1(x))) # drop 1st linear + nonlinear wt\n",
    "        \n",
    "        #This is used to restrict the predictions between the max and the min rating.\n",
    "        r = torch.sigmoid(self.dense2(x)) * (max_rating - min_rating + 1) #+ min_rating - 0.5       \n",
    "        return r"
   ]
  },
  {
   "cell_type": "markdown",
   "metadata": {},
   "source": [
    "## Define the training Function"
   ]
  },
  {
   "cell_type": "code",
   "execution_count": 19,
   "metadata": {},
   "outputs": [],
   "source": [
    "def train_model (number_of_epoch, model, patience):    \n",
    "    \n",
    "    #Initialize Early Stop counter\n",
    "    early_stopping = EarlyStopping(patience=patience, verbose=True)\n",
    "    \n",
    "    for epoch in range(number_of_epoch):\n",
    "\n",
    "        for phase in ['train', 'validation']:\n",
    "\n",
    "            if phase == 'train':\n",
    "                model.train()\n",
    "            if phase == 'validation':\n",
    "                model.eval()\n",
    "\n",
    "            running_loss = 0.0\n",
    "\n",
    "            for batch in dataloaders [phase]:\n",
    "\n",
    "                batch_users = batch['user']\n",
    "                batch_users = batch_users.cuda()\n",
    "                batch_anime = batch['anime']\n",
    "                batch_anime = batch_anime.cuda()\n",
    "                batch_ratings = batch['rating'].view(-1,1).float()\n",
    "                batch_ratings = batch_ratings.cuda()\n",
    "\n",
    "                if phase == 'train':\n",
    "                    optimizer.zero_grad()\n",
    "\n",
    "                output = model(batch_users, batch_anime)\n",
    "                loss =F.mse_loss(output, batch_ratings)\n",
    "                running_loss += loss.item()\n",
    "\n",
    "                if phase == 'train':\n",
    "                    loss.backward()\n",
    "                    optimizer.step()\n",
    "\n",
    "            epoch_loss = running_loss / len(dataloaders [phase])\n",
    "            print(\"Epoch : \", epoch, \", phase : \", phase, \"loss : \" ,epoch_loss)\n",
    "            \n",
    "    \n",
    "            if (phase == 'train') :\n",
    "                train_loss = epoch_loss\n",
    "            if (phase == 'validation') :\n",
    "                validation_loss = epoch_loss\n",
    "                \n",
    "        early_stopping(validation_loss, model)\n",
    "        \n",
    "        if early_stopping.early_stop:\n",
    "            print(\"Early stopping\")\n",
    "            break\n",
    "    \n",
    "        # load the last checkpoint with the best model\n",
    "        model.load_state_dict(torch.load('checkpoint.pt'))\n",
    "    \n",
    "    return model, train_loss, validation_loss"
   ]
  },
  {
   "cell_type": "markdown",
   "metadata": {},
   "source": [
    "# Encode the User Id's and Anime Id's with sequential integers, so the embedding layers will be smaller"
   ]
  },
  {
   "cell_type": "code",
   "execution_count": 20,
   "metadata": {},
   "outputs": [
    {
     "data": {
      "text/html": [
       "<div>\n",
       "<style scoped>\n",
       "    .dataframe tbody tr th:only-of-type {\n",
       "        vertical-align: middle;\n",
       "    }\n",
       "\n",
       "    .dataframe tbody tr th {\n",
       "        vertical-align: top;\n",
       "    }\n",
       "\n",
       "    .dataframe thead th {\n",
       "        text-align: right;\n",
       "    }\n",
       "</style>\n",
       "<table border=\"1\" class=\"dataframe\">\n",
       "  <thead>\n",
       "    <tr style=\"text-align: right;\">\n",
       "      <th></th>\n",
       "      <th>user_id</th>\n",
       "      <th>anime_id</th>\n",
       "      <th>rating</th>\n",
       "      <th>UsersInt</th>\n",
       "      <th>AnimeInt</th>\n",
       "    </tr>\n",
       "  </thead>\n",
       "  <tbody>\n",
       "    <tr>\n",
       "      <td>302</td>\n",
       "      <td>5</td>\n",
       "      <td>6</td>\n",
       "      <td>8</td>\n",
       "      <td>0</td>\n",
       "      <td>2</td>\n",
       "    </tr>\n",
       "    <tr>\n",
       "      <td>303</td>\n",
       "      <td>5</td>\n",
       "      <td>15</td>\n",
       "      <td>6</td>\n",
       "      <td>0</td>\n",
       "      <td>4</td>\n",
       "    </tr>\n",
       "    <tr>\n",
       "      <td>304</td>\n",
       "      <td>5</td>\n",
       "      <td>17</td>\n",
       "      <td>6</td>\n",
       "      <td>0</td>\n",
       "      <td>6</td>\n",
       "    </tr>\n",
       "    <tr>\n",
       "      <td>305</td>\n",
       "      <td>5</td>\n",
       "      <td>18</td>\n",
       "      <td>6</td>\n",
       "      <td>0</td>\n",
       "      <td>7</td>\n",
       "    </tr>\n",
       "    <tr>\n",
       "      <td>306</td>\n",
       "      <td>5</td>\n",
       "      <td>20</td>\n",
       "      <td>6</td>\n",
       "      <td>0</td>\n",
       "      <td>9</td>\n",
       "    </tr>\n",
       "  </tbody>\n",
       "</table>\n",
       "</div>"
      ],
      "text/plain": [
       "     user_id  anime_id  rating  UsersInt  AnimeInt\n",
       "302        5         6       8         0         2\n",
       "303        5        15       6         0         4\n",
       "304        5        17       6         0         6\n",
       "305        5        18       6         0         7\n",
       "306        5        20       6         0         9"
      ]
     },
     "execution_count": 20,
     "metadata": {},
     "output_type": "execute_result"
    }
   ],
   "source": [
    "user_encoder = LabelEncoder()\n",
    "anime_encoder = LabelEncoder()\n",
    "\n",
    "user_encoder.fit(ratings.user_id.unique())\n",
    "ratings['UsersInt'] = ratings.user_id.map(lambda x : user_encoder.transform([x])[0])\n",
    "\n",
    "anime_encoder.fit(ratings.anime_id.unique())\n",
    "ratings['AnimeInt'] = ratings.anime_id.map(lambda x : anime_encoder.transform([x])[0])\n",
    "\n",
    "ratings.head()"
   ]
  },
  {
   "cell_type": "markdown",
   "metadata": {},
   "source": [
    "## Define the arguments"
   ]
  },
  {
   "cell_type": "code",
   "execution_count": 21,
   "metadata": {},
   "outputs": [
    {
     "name": "stdout",
     "output_type": "stream",
     "text": [
      "2401\n",
      "2227\n"
     ]
    },
    {
     "data": {
      "text/plain": [
       "(1, 10)"
      ]
     },
     "execution_count": 21,
     "metadata": {},
     "output_type": "execute_result"
    }
   ],
   "source": [
    "# Dataset Arguments\n",
    "shuffle_dataset = True\n",
    "batch_size = 128\n",
    "\n",
    "# Model Arguments\n",
    "wd=1e-5\n",
    "learning_rate = 0.01\n",
    "\n",
    "# Training Arguments\n",
    "number_of_splits = 3\n",
    "number_of_epoch = 10\n",
    "patience = 3\n",
    "\n",
    "# Users Embedding Matrix Row Dimension\n",
    "num_users = ratings.UsersInt.max() +1\n",
    "print (num_users)\n",
    "# Books Embedding Matrix RowDimension\n",
    "num_anime = ratings.AnimeInt.max() +1\n",
    "print (num_anime)\n",
    "\n",
    "\n",
    "# Min Max Rating\n",
    "min_rating,max_rating = ratings.rating.min(),ratings.rating.max()\n",
    "min_rating,max_rating"
   ]
  },
  {
   "cell_type": "markdown",
   "metadata": {},
   "source": [
    "## I keep 20% of the data for testings  and from the other 80% I do K-Fold Cross Validation with 30% for validation."
   ]
  },
  {
   "cell_type": "code",
   "execution_count": 22,
   "metadata": {},
   "outputs": [
    {
     "name": "stdout",
     "output_type": "stream",
     "text": [
      "\n",
      " Train on : 966056 instances, Test on : 241515\n",
      "\n",
      " Train on : 676239 instances, Validate on : 289817\n",
      "\n",
      " The model's architecture is : \n",
      " EmbeddingNet(\n",
      "  (user_emb): Embedding(2401, 100)\n",
      "  (anime_emb): Embedding(2227, 100)\n",
      "  (dense1): Linear(in_features=200, out_features=100, bias=True)\n",
      "  (dense2): Linear(in_features=100, out_features=1, bias=True)\n",
      "  (drop1): Dropout(p=0.05, inplace=False)\n",
      "  (drop2): Dropout(p=0.5, inplace=False)\n",
      ")\n",
      "\n",
      " Split :  1\n",
      "Epoch :  0 , phase :  train loss :  1.544879015356714\n",
      "Epoch :  0 , phase :  validation loss :  1.3871447772261531\n",
      "Validation loss decreased (inf --> 1.387145).  Saving model ...\n",
      "Epoch :  1 , phase :  train loss :  1.4691684667233285\n",
      "Epoch :  1 , phase :  validation loss :  1.328831345448435\n",
      "Validation loss decreased (1.387145 --> 1.328831).  Saving model ...\n",
      "Epoch :  2 , phase :  train loss :  1.4484689945459772\n",
      "Epoch :  2 , phase :  validation loss :  1.3249714572259057\n",
      "Validation loss decreased (1.328831 --> 1.324971).  Saving model ...\n",
      "Epoch :  3 , phase :  train loss :  1.4441999773985505\n",
      "Epoch :  3 , phase :  validation loss :  1.3443748793785226\n",
      "EarlyStopping counter: 1 out of 3\n",
      "Epoch :  4 , phase :  train loss :  1.4556180232631286\n",
      "Epoch :  4 , phase :  validation loss :  1.3475268122216837\n",
      "EarlyStopping counter: 2 out of 3\n",
      "Epoch :  5 , phase :  train loss :  1.4426725872781903\n",
      "Epoch :  5 , phase :  validation loss :  1.3214687068713007\n",
      "Validation loss decreased (1.324971 --> 1.321469).  Saving model ...\n",
      "Epoch :  6 , phase :  train loss :  1.439147546258407\n",
      "Epoch :  6 , phase :  validation loss :  1.3323422020084024\n",
      "EarlyStopping counter: 1 out of 3\n",
      "Epoch :  7 , phase :  train loss :  1.4483426122780034\n",
      "Epoch :  7 , phase :  validation loss :  1.3975454486722239\n",
      "EarlyStopping counter: 2 out of 3\n",
      "Epoch :  8 , phase :  train loss :  1.442666562741258\n",
      "Epoch :  8 , phase :  validation loss :  1.306363302069081\n",
      "Validation loss decreased (1.321469 --> 1.306363).  Saving model ...\n",
      "Epoch :  9 , phase :  train loss :  1.4357934629129636\n",
      "Epoch :  9 , phase :  validation loss :  1.3234703296486143\n",
      "EarlyStopping counter: 1 out of 3\n",
      "\n",
      " Split :  2\n",
      "Epoch :  0 , phase :  train loss :  1.5436326302341186\n",
      "Epoch :  0 , phase :  validation loss :  1.3919851542730213\n",
      "Validation loss decreased (inf --> 1.391985).  Saving model ...\n",
      "Epoch :  1 , phase :  train loss :  1.4687105362645023\n",
      "Epoch :  1 , phase :  validation loss :  1.3709560402079943\n",
      "Validation loss decreased (1.391985 --> 1.370956).  Saving model ...\n",
      "Epoch :  2 , phase :  train loss :  1.4534952942674728\n",
      "Epoch :  2 , phase :  validation loss :  1.358718148310909\n",
      "Validation loss decreased (1.370956 --> 1.358718).  Saving model ...\n",
      "Epoch :  3 , phase :  train loss :  1.4424306746912843\n",
      "Epoch :  3 , phase :  validation loss :  1.3436524192983608\n",
      "Validation loss decreased (1.358718 --> 1.343652).  Saving model ...\n",
      "Epoch :  4 , phase :  train loss :  1.4510557089658842\n",
      "Epoch :  4 , phase :  validation loss :  1.3688338459749103\n",
      "EarlyStopping counter: 1 out of 3\n",
      "Epoch :  5 , phase :  train loss :  1.453354523711283\n",
      "Epoch :  5 , phase :  validation loss :  1.326444649733208\n",
      "Validation loss decreased (1.343652 --> 1.326445).  Saving model ...\n",
      "Epoch :  6 , phase :  train loss :  1.4436473028014019\n",
      "Epoch :  6 , phase :  validation loss :  1.3437317253580785\n",
      "EarlyStopping counter: 1 out of 3\n",
      "Epoch :  7 , phase :  train loss :  1.4453759112187503\n",
      "Epoch :  7 , phase :  validation loss :  1.3710261282409038\n",
      "EarlyStopping counter: 2 out of 3\n",
      "Epoch :  8 , phase :  train loss :  1.4440591173846231\n",
      "Epoch :  8 , phase :  validation loss :  1.3184713648612423\n",
      "Validation loss decreased (1.326445 --> 1.318471).  Saving model ...\n",
      "Epoch :  9 , phase :  train loss :  1.4422184554731305\n",
      "Epoch :  9 , phase :  validation loss :  1.3123964246086013\n",
      "Validation loss decreased (1.318471 --> 1.312396).  Saving model ...\n",
      "\n",
      " Split :  3\n",
      "Epoch :  0 , phase :  train loss :  1.5470694648526777\n",
      "Epoch :  0 , phase :  validation loss :  1.4649325154537447\n",
      "Validation loss decreased (inf --> 1.464933).  Saving model ...\n",
      "Epoch :  1 , phase :  train loss :  1.4743828383580586\n",
      "Epoch :  1 , phase :  validation loss :  1.328516374786414\n",
      "Validation loss decreased (1.464933 --> 1.328516).  Saving model ...\n",
      "Epoch :  2 , phase :  train loss :  1.4527592461781138\n",
      "Epoch :  2 , phase :  validation loss :  1.3243824151400543\n",
      "Validation loss decreased (1.328516 --> 1.324382).  Saving model ...\n",
      "Epoch :  3 , phase :  train loss :  1.4425442523742384\n",
      "Epoch :  3 , phase :  validation loss :  1.3325767339908192\n",
      "EarlyStopping counter: 1 out of 3\n",
      "Epoch :  4 , phase :  train loss :  1.454795115128986\n",
      "Epoch :  4 , phase :  validation loss :  1.351784246891421\n",
      "EarlyStopping counter: 2 out of 3\n",
      "Epoch :  5 , phase :  train loss :  1.448471955034107\n",
      "Epoch :  5 , phase :  validation loss :  1.3343264036170164\n",
      "EarlyStopping counter: 3 out of 3\n",
      "Early stopping\n",
      "\n",
      " After 3 - Fold Cross Validation, we got 1.4421612911400672 MSE on training and 1.3233977192914106 MSE on validation. \n",
      "\n"
     ]
    }
   ],
   "source": [
    "#Load Dataset\n",
    "dataset = AnimeDataset(ratings)\n",
    "\n",
    "dataset_split = int ( len(dataset) * 0.8 )\n",
    "indices = list(range( len(dataset) ))\n",
    "\n",
    "if shuffle_dataset :\n",
    "        np.random.seed( random.randint(1,100) )\n",
    "        np.random.shuffle(indices)\n",
    "            \n",
    "main_indices = indices[:dataset_split]\n",
    "test_indices = indices[dataset_split:]\n",
    "print ('\\n Train on : {} instances, Test on : {}'.format(len(main_indices), len(test_indices)))\n",
    "\n",
    "       \n",
    "'''CROSS VALIDATION'''\n",
    "# Initalize for cross validation\n",
    "train_losses = []\n",
    "validation_losses = []\n",
    "\n",
    "for split in range(number_of_splits) :\n",
    "    \n",
    "    \n",
    "    '''CREATE THE LOADERS'''\n",
    "\n",
    "    #Spliting\n",
    "    train_split = int ( len(main_indices) * 0.7 ) \n",
    "\n",
    "    # Creating data indices for training and validation splits:\n",
    "    indices = main_indices\n",
    "\n",
    "    if shuffle_dataset :\n",
    "        np.random.seed( random.randint(1,100) )\n",
    "        np.random.shuffle(indices)\n",
    "\n",
    "    train_indices = indices[:train_split]\n",
    "    val_indices = indices[train_split:]\n",
    "\n",
    "    # Creating PT data samplers and loaders:\n",
    "    train_sampler = SubsetRandomSampler(train_indices)\n",
    "    valid_sampler = SubsetRandomSampler(val_indices)\n",
    "\n",
    "    train_loader = DataLoader (dataset = dataset, batch_size = batch_size, sampler = train_sampler, drop_last=True)\n",
    "    validation_loader = DataLoader (dataset = dataset, batch_size = batch_size, sampler = valid_sampler, drop_last=True)\n",
    "\n",
    "    dataloaders = {'train' : train_loader, 'validation' : validation_loader}\n",
    "    dataloaders_size = {'train' : len(train_loader), 'validation' : len(validation_loader)}\n",
    "    \n",
    "    \n",
    "    '''DEFINE THE MODEL'''\n",
    "    \n",
    "    # Model\n",
    "    model = EmbeddingNet(num_users=num_users, num_anime=num_anime, num_emb = 100, hidden_dim=100)\n",
    "    model = model.cuda()\n",
    "    optimizer = optim.Adam(model.parameters(), lr = learning_rate, weight_decay=wd)\n",
    "    \n",
    "    if (split == 0) :\n",
    "        \n",
    "        print ('\\n Train on : {} instances, Validate on : {}'.format(len(train_indices), len(val_indices)))\n",
    "        \n",
    "        print ('\\n The model\\'s architecture is : \\n',   model)\n",
    "    \n",
    "    '''Train the model'''\n",
    "    \n",
    "    print ('\\n Split : ', split+1)\n",
    "    trained_model, train_loss, validation_loss = train_model(number_of_epoch, model, patience)\n",
    "    \n",
    "    train_losses.append(train_loss)\n",
    "    validation_losses.append(validation_loss)\n",
    "    \n",
    "\n",
    "final_train_loss = np.sum(train_losses)/number_of_splits\n",
    "final_validation_loss = np.sum(validation_losses)/number_of_splits\n",
    "print (\"\\n After {} - Fold Cross Validation, we got {} MSE on training and {} MSE on validation. \\n\".format\n",
    "       (number_of_splits, final_train_loss, final_validation_loss))"
   ]
  },
  {
   "cell_type": "markdown",
   "metadata": {},
   "source": [
    "## Train the final Model from all the data which were used for cross validation[80% of all the data], for 2 epoches, cause we saw, that after that the model overfitted, and test that to the test data[20%] which were kept separate before."
   ]
  },
  {
   "cell_type": "code",
   "execution_count": 23,
   "metadata": {},
   "outputs": [
    {
     "name": "stdout",
     "output_type": "stream",
     "text": [
      "Epoch :  0 loss :  1.5278554120584404\n",
      "Epoch :  1 loss :  1.4593460184541842\n",
      "Epoch :  2 loss :  1.4498218822608773\n",
      "\n",
      " Test Loss :  1.4740730678605376\n"
     ]
    }
   ],
   "source": [
    "'''Create the final Model from all the dataset'''\n",
    "#Dataset \n",
    "main_sampler = SubsetRandomSampler(main_indices)\n",
    "main_loader = DataLoader (dataset = dataset, batch_size = batch_size, sampler = main_sampler, drop_last=True)\n",
    "test_sampler = SubsetRandomSampler(test_indices)\n",
    "test_loader = DataLoader (dataset = dataset, batch_size = batch_size, sampler = test_sampler, drop_last=True)\n",
    "\n",
    "# Model\n",
    "model = EmbeddingNet(num_users=num_users, num_anime=num_anime, num_emb = 100, hidden_dim=100)\n",
    "model = model.cuda()\n",
    "optimizer = optim.Adam(model.parameters(), lr = learning_rate, weight_decay=wd)\n",
    "\n",
    "#Train the model from all the training dataset\n",
    "for epoch in range(3):\n",
    "    model.train()\n",
    "    running_loss = 0.0\n",
    "    for batch in main_loader:\n",
    "        batch_users = batch['user']\n",
    "        batch_users = batch_users.cuda()\n",
    "        batch_anime = batch['anime']\n",
    "        batch_anime = batch_anime.cuda()\n",
    "        batch_ratings = batch['rating'].view(-1,1).float()\n",
    "        batch_ratings = batch_ratings.cuda()\n",
    "        \n",
    "        optimizer.zero_grad()\n",
    "\n",
    "        output = model(batch_users, batch_anime)\n",
    "        loss =F.mse_loss(output, batch_ratings)\n",
    "        running_loss += loss.item()\n",
    "        \n",
    "        loss.backward()\n",
    "        optimizer.step()\n",
    "\n",
    "    epoch_loss = running_loss / len(main_loader)\n",
    "    print(\"Epoch : \", epoch,\"loss : \" ,epoch_loss)    \n",
    "    \n",
    "    \n",
    "#Test the model\n",
    "running_loss = 0.0\n",
    "for batch in test_loader:\n",
    "    batch_users = batch['user']\n",
    "    batch_users = batch_users.cuda()\n",
    "    batch_anime = batch['anime']\n",
    "    batch_anime = batch_anime.cuda()\n",
    "    batch_ratings = batch['rating'].view(-1,1).float()\n",
    "    batch_ratings = batch_ratings.cuda()\n",
    "    \n",
    "    output = model(batch_users, batch_anime)\n",
    "    loss =F.mse_loss(output, batch_ratings)\n",
    "    running_loss += loss.item()\n",
    "\n",
    "test_loss = running_loss / len(test_loader)\n",
    "print(\"\\n Test Loss : \", test_loss)"
   ]
  },
  {
   "cell_type": "markdown",
   "metadata": {},
   "source": [
    "## Recommend the top 10 anime for a specific user."
   ]
  },
  {
   "cell_type": "code",
   "execution_count": 33,
   "metadata": {},
   "outputs": [
    {
     "data": {
      "text/html": [
       "<div>\n",
       "<style scoped>\n",
       "    .dataframe tbody tr th:only-of-type {\n",
       "        vertical-align: middle;\n",
       "    }\n",
       "\n",
       "    .dataframe tbody tr th {\n",
       "        vertical-align: top;\n",
       "    }\n",
       "\n",
       "    .dataframe thead th {\n",
       "        text-align: right;\n",
       "    }\n",
       "</style>\n",
       "<table border=\"1\" class=\"dataframe\">\n",
       "  <thead>\n",
       "    <tr style=\"text-align: right;\">\n",
       "      <th></th>\n",
       "      <th>anime_id</th>\n",
       "      <th>name</th>\n",
       "      <th>genre</th>\n",
       "      <th>type</th>\n",
       "      <th>episodes</th>\n",
       "      <th>rating</th>\n",
       "      <th>members</th>\n",
       "      <th>Predicted_Rating</th>\n",
       "    </tr>\n",
       "  </thead>\n",
       "  <tbody>\n",
       "    <tr>\n",
       "      <td>0</td>\n",
       "      <td>5114</td>\n",
       "      <td>Fullmetal Alchemist: Brotherhood</td>\n",
       "      <td>Action, Adventure, Drama, Fantasy, Magic, Mili...</td>\n",
       "      <td>TV</td>\n",
       "      <td>64</td>\n",
       "      <td>9.26</td>\n",
       "      <td>793665</td>\n",
       "      <td>10</td>\n",
       "    </tr>\n",
       "    <tr>\n",
       "      <td>1</td>\n",
       "      <td>19</td>\n",
       "      <td>Monster</td>\n",
       "      <td>Drama, Horror, Mystery, Police, Psychological,...</td>\n",
       "      <td>TV</td>\n",
       "      <td>74</td>\n",
       "      <td>8.72</td>\n",
       "      <td>247562</td>\n",
       "      <td>10</td>\n",
       "    </tr>\n",
       "    <tr>\n",
       "      <td>2</td>\n",
       "      <td>9253</td>\n",
       "      <td>Steins;Gate</td>\n",
       "      <td>Sci-Fi, Thriller</td>\n",
       "      <td>TV</td>\n",
       "      <td>24</td>\n",
       "      <td>9.17</td>\n",
       "      <td>673572</td>\n",
       "      <td>10</td>\n",
       "    </tr>\n",
       "    <tr>\n",
       "      <td>3</td>\n",
       "      <td>820</td>\n",
       "      <td>Ginga Eiyuu Densetsu</td>\n",
       "      <td>Drama, Military, Sci-Fi, Space</td>\n",
       "      <td>OVA</td>\n",
       "      <td>110</td>\n",
       "      <td>9.11</td>\n",
       "      <td>80679</td>\n",
       "      <td>9</td>\n",
       "    </tr>\n",
       "    <tr>\n",
       "      <td>4</td>\n",
       "      <td>25835</td>\n",
       "      <td>Shirobako</td>\n",
       "      <td>Comedy, Drama</td>\n",
       "      <td>TV</td>\n",
       "      <td>24</td>\n",
       "      <td>8.49</td>\n",
       "      <td>146895</td>\n",
       "      <td>9</td>\n",
       "    </tr>\n",
       "    <tr>\n",
       "      <td>5</td>\n",
       "      <td>1</td>\n",
       "      <td>Cowboy Bebop</td>\n",
       "      <td>Action, Adventure, Comedy, Drama, Sci-Fi, Space</td>\n",
       "      <td>TV</td>\n",
       "      <td>26</td>\n",
       "      <td>8.82</td>\n",
       "      <td>486824</td>\n",
       "      <td>9</td>\n",
       "    </tr>\n",
       "    <tr>\n",
       "      <td>6</td>\n",
       "      <td>2001</td>\n",
       "      <td>Tengen Toppa Gurren Lagann</td>\n",
       "      <td>Action, Adventure, Comedy, Mecha, Sci-Fi</td>\n",
       "      <td>TV</td>\n",
       "      <td>27</td>\n",
       "      <td>8.78</td>\n",
       "      <td>562962</td>\n",
       "      <td>9</td>\n",
       "    </tr>\n",
       "    <tr>\n",
       "      <td>7</td>\n",
       "      <td>57</td>\n",
       "      <td>Beck</td>\n",
       "      <td>Comedy, Drama, Music, Shounen, Slice of Life</td>\n",
       "      <td>TV</td>\n",
       "      <td>26</td>\n",
       "      <td>8.40</td>\n",
       "      <td>148328</td>\n",
       "      <td>9</td>\n",
       "    </tr>\n",
       "    <tr>\n",
       "      <td>8</td>\n",
       "      <td>11577</td>\n",
       "      <td>Steins;Gate Movie: Fuka Ryouiki no Déjà vu</td>\n",
       "      <td>Sci-Fi, Thriller</td>\n",
       "      <td>Movie</td>\n",
       "      <td>1</td>\n",
       "      <td>8.61</td>\n",
       "      <td>192424</td>\n",
       "      <td>9</td>\n",
       "    </tr>\n",
       "    <tr>\n",
       "      <td>9</td>\n",
       "      <td>5205</td>\n",
       "      <td>Kara no Kyoukai 7: Satsujin Kousatsu (Kou)</td>\n",
       "      <td>Action, Mystery, Romance, Supernatural, Thriller</td>\n",
       "      <td>Movie</td>\n",
       "      <td>1</td>\n",
       "      <td>8.57</td>\n",
       "      <td>95658</td>\n",
       "      <td>9</td>\n",
       "    </tr>\n",
       "  </tbody>\n",
       "</table>\n",
       "</div>"
      ],
      "text/plain": [
       "   anime_id                                        name  \\\n",
       "0      5114            Fullmetal Alchemist: Brotherhood   \n",
       "1        19                                     Monster   \n",
       "2      9253                                 Steins;Gate   \n",
       "3       820                        Ginga Eiyuu Densetsu   \n",
       "4     25835                                   Shirobako   \n",
       "5         1                                Cowboy Bebop   \n",
       "6      2001                  Tengen Toppa Gurren Lagann   \n",
       "7        57                                        Beck   \n",
       "8     11577  Steins;Gate Movie: Fuka Ryouiki no Déjà vu   \n",
       "9      5205  Kara no Kyoukai 7: Satsujin Kousatsu (Kou)   \n",
       "\n",
       "                                               genre   type episodes  rating  \\\n",
       "0  Action, Adventure, Drama, Fantasy, Magic, Mili...     TV       64    9.26   \n",
       "1  Drama, Horror, Mystery, Police, Psychological,...     TV       74    8.72   \n",
       "2                                   Sci-Fi, Thriller     TV       24    9.17   \n",
       "3                     Drama, Military, Sci-Fi, Space    OVA      110    9.11   \n",
       "4                                      Comedy, Drama     TV       24    8.49   \n",
       "5    Action, Adventure, Comedy, Drama, Sci-Fi, Space     TV       26    8.82   \n",
       "6           Action, Adventure, Comedy, Mecha, Sci-Fi     TV       27    8.78   \n",
       "7       Comedy, Drama, Music, Shounen, Slice of Life     TV       26    8.40   \n",
       "8                                   Sci-Fi, Thriller  Movie        1    8.61   \n",
       "9   Action, Mystery, Romance, Supernatural, Thriller  Movie        1    8.57   \n",
       "\n",
       "   members  Predicted_Rating  \n",
       "0   793665                10  \n",
       "1   247562                10  \n",
       "2   673572                10  \n",
       "3    80679                 9  \n",
       "4   146895                 9  \n",
       "5   486824                 9  \n",
       "6   562962                 9  \n",
       "7   148328                 9  \n",
       "8   192424                 9  \n",
       "9    95658                 9  "
      ]
     },
     "execution_count": 33,
     "metadata": {},
     "output_type": "execute_result"
    }
   ],
   "source": [
    "'''Collect the data for a specific user'''\n",
    "# Take one random of the users who left.\n",
    "user_id = np.random.choice(ratings.UsersInt.unique())\n",
    "\n",
    "# Isolate all the indexes of the remaining anime.\n",
    "anime_user_never_read = ratings.loc [ratings.user_id != user_id]\n",
    "all_anime_indexes = torch.Tensor(anime_user_never_read.AnimeInt.unique()).long().cuda()\n",
    "\n",
    "# Create an empty tensor with the same length with the anime\n",
    "empty_tensor = torch.Tensor( len(all_anime_indexes) )\n",
    "# Fill it with the user id\n",
    "user_a_lot = empty_tensor.fill_(user_id) \n",
    "user_a_lot = user_a_lot.long().cuda()\n",
    "\n",
    "\n",
    "\n",
    "'''Prediction of the top 10 anime recommendations for the user'''    \n",
    "preds = model(user_a_lot, all_anime_indexes)\n",
    "\n",
    "#Find top 10 anime\n",
    "predicted_ratings, top_10_anime_pos = preds.flatten().topk(10)\n",
    "top_10_anime_idxs = all_anime_indexes[top_10_anime_pos]\n",
    "top_10_anime = anime_encoder.inverse_transform (top_10_anime_idxs.cpu())\n",
    "\n",
    "results = anime.set_index('anime_id').loc[top_10_anime].reset_index()\n",
    "results['Predicted_Rating'] = predicted_ratings.tolist() \n",
    "results['Predicted_Rating'] = results['Predicted_Rating'].map(round)\n",
    "results"
   ]
  },
  {
   "cell_type": "code",
   "execution_count": null,
   "metadata": {},
   "outputs": [],
   "source": []
  }
 ],
 "metadata": {
  "kernelspec": {
   "display_name": "Python 3",
   "language": "python",
   "name": "python3"
  },
  "language_info": {
   "codemirror_mode": {
    "name": "ipython",
    "version": 3
   },
   "file_extension": ".py",
   "mimetype": "text/x-python",
   "name": "python",
   "nbconvert_exporter": "python",
   "pygments_lexer": "ipython3",
   "version": "3.7.4"
  }
 },
 "nbformat": 4,
 "nbformat_minor": 2
}
